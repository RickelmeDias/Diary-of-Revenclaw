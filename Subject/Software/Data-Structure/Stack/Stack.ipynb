{
 "cells": [
  {
   "attachments": {},
   "cell_type": "markdown",
   "metadata": {},
   "source": [
    "## Estrutura de Dados\n",
    "\n",
    "#### Pilhas\n",
    "\n",
    "Vetor, implementação estatica. É uma estrutura de dados fisica estatica.\n",
    "Lista, implementação dinamica.\n",
    "\n",
    "size = adicionar tamanho da lista em uma variavel | O(1)\n",
    "clear = não é um metodo, pois não é O(1)\n",
    "pop = underflow caso tente tirar em uma pilha vazia\n",
    "push = overflow caso tente adicionar em uma pilha cheia\n",
    "isEmpty = função para verificar se esta vazio\n",
    "isFull = função para verificar se esta cheio\n",
    "capacity = tamanho max fixo para uma pilha\n",
    "size = tamanho atual\n",
    "next = aponta para o proximo elemento sem tirar\n",
    "\n",
    "\n",
    "O caso médio de `a.apprend` roda em operação de complexidade O(n), ou seja, não podemos usar para fazer um push.\n",
    "1...2...3...4 é O(1), mas no 5 elemento é O(n).\n",
    "\n",
    "- 2 implementações possiveis em uma pilha: o topo remove direita para esquerda ou esquerda para direita."
   ]
  },
  {
   "cell_type": "code",
   "execution_count": null,
   "metadata": {},
   "outputs": [],
   "source": [
    "class Stack:\n",
    "    def __init__(self, capacity):\n",
    "        self._data = [None] * capacity\n",
    "        self.capacity = capacity\n",
    "        self._size = 0\n",
    "\n",
    "    def push(self, element):\n",
    "        isFull = self.isFull()\n",
    "        if not isFull:\n",
    "            self._data[self._size] = element\n",
    "            self._size+=1\n",
    "        else:\n",
    "            print(\"Overflow! Nao e possivel adicionar elemento de uma pilha cheia\")\n",
    "            return None\n",
    "\n",
    "    def pop(self):\n",
    "        isEmpty = self.isEmpty()\n",
    "        if not isEmpty:\n",
    "            self._size-=1\n",
    "            return self._data[self._size]\n",
    "        else:\n",
    "            print(\"Underflow! Nao e possivel remover elementos de uma pilha vazia\")\n",
    "            return None\n",
    "\n",
    "    def size(self):\n",
    "        return self._size\n",
    "\n",
    "    def isEmpty(self):\n",
    "        return self._size == 0\n",
    "\n",
    "    def isFull(self):\n",
    "        return self._size == self.capacity\n",
    "    \n",
    "stack = Stack(10)\n",
    "stack.push(1)\n",
    "print(stack.pop())\n",
    "stack.push(2)\n",
    "print(stack.pop())\n",
    "stack.push(3)\n",
    "print(stack.pop())"
   ]
  },
  {
   "attachments": {},
   "cell_type": "markdown",
   "metadata": {},
   "source": [
    "Fazer um 1 vetor uma lista ter espaço compartilhado e competido com duas pilhas"
   ]
  }
 ],
 "metadata": {
  "language_info": {
   "name": "python"
  },
  "orig_nbformat": 4
 },
 "nbformat": 4,
 "nbformat_minor": 2
}
