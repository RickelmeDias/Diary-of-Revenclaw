{
 "cells": [
  {
   "attachments": {},
   "cell_type": "markdown",
   "metadata": {},
   "source": [
    "## Estrutura de Dados\n",
    "\n",
    "#### Filas\n",
    "\n",
    "Vetor, implementação estatica. \n",
    "-   É uma estrutura de dados fisica estatica;\n",
    "-   Permite acessar os indices no meio;\n",
    "-   Permite economizar memória.\n",
    "\n",
    "Variações de Fila (Estática):\n",
    "-   Linear, filas que são limitadas, após 5 pessoas entrar e 5 pessoas sair, ela não é mais capaz de receber outras pessoas.\n",
    "-   Dupla (Deque)\n",
    "-   Circular, filas comuns são circulares, pois se sair todas as pessoas de uma fila ela continua a receber novas pessoas na fila.\n",
    "\n",
    "Lista, implementação dinamica.\n",
    "- Não usamos append(), pois Filas usam apenas métodos O(1), mas append() é O(n), pois copia todos dados para um novo espaço de memoria que caiba todos.\n",
    "\n"
   ]
  },
  {
   "cell_type": "code",
   "execution_count": null,
   "metadata": {},
   "outputs": [],
   "source": [
    "# class Queue:"
   ]
  },
  {
   "attachments": {},
   "cell_type": "markdown",
   "metadata": {},
   "source": [
    "Fazer um 1 vetor uma lista ter espaço compartilhado e competido com duas pilhas"
   ]
  }
 ],
 "metadata": {
  "language_info": {
   "name": "python"
  },
  "orig_nbformat": 4
 },
 "nbformat": 4,
 "nbformat_minor": 2
}
